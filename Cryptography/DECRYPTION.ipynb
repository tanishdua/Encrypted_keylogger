{
 "cells": [
  {
   "cell_type": "code",
   "execution_count": 1,
   "metadata": {},
   "outputs": [],
   "source": [
    "from cryptography.fernet import Fernet\n",
    "\n",
    "key = \"C0DcvpYhOHDzR4ybk5S8fYIjf7axzR6gxWP5ervjXGo=\"\n",
    "path =\"C://Users//AnmolXPC//Documents//Encrypted-Keylogger-main//Files\" \n",
    "system_information_e = path+'e_systeminfo.txt'\n",
    "clipboard_information_e = path+'e_clipboard.txt'\n",
    "keys_information_e = path+'e_key_log.txt'\n",
    "\n",
    "\n",
    "\n",
    "encrypted_files = [system_information_e]\n",
    "count = 0\n",
    "\n",
    "\n",
    "for decrypting_files in encrypted_files:\n",
    "\n",
    "    with open(encrypted_files[count], 'rb') as f:\n",
    "        data = f.read()\n",
    "\n",
    "    fernet = Fernet(key)\n",
    "    decrypted = fernet.decrypt(data)\n",
    "\n",
    "    with open(\"decryption.txt\", 'ab') as f:\n",
    "        f.write(decrypted)\n",
    "\n",
    "    count += 1"
   ]
  },
  {
   "cell_type": "code",
   "execution_count": null,
   "metadata": {},
   "outputs": [],
   "source": []
  }
 ],
 "metadata": {
  "kernelspec": {
   "display_name": "Python 3",
   "language": "python",
   "name": "python3"
  },
  "language_info": {
   "codemirror_mode": {
    "name": "ipython",
    "version": 3
   },
   "file_extension": ".py",
   "mimetype": "text/x-python",
   "name": "python",
   "nbconvert_exporter": "python",
   "pygments_lexer": "ipython3",
   "version": "3.8.8"
  }
 },
 "nbformat": 4,
 "nbformat_minor": 4
}
